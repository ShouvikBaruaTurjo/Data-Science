{
 "cells": [
  {
   "cell_type": "markdown",
   "id": "3d99c610-e8b5-414f-b063-0817c9d11031",
   "metadata": {},
   "source": [
    "# My Notebook"
   ]
  },
  {
   "cell_type": "markdown",
   "id": "f8cb2ab5-1002-4be4-acba-9cb4eb916e51",
   "metadata": {},
   "source": [
    "In this notebook, some basic markdown and coding cells are created"
   ]
  },
  {
   "cell_type": "markdown",
   "id": "b5a1bf0e-767b-47e6-9774-c284ac19cbaf",
   "metadata": {},
   "source": [
    "Some popular languages for Data Science are the following:\n",
    "1. Python.\n",
    "2. R.\n",
    "3. SQL."
   ]
  },
  {
   "cell_type": "markdown",
   "id": "21d8447f-c3c8-4d3d-9499-ae588801ea62",
   "metadata": {},
   "source": [
    "Some popular Libraries used in Data Science are the following:\n",
    "1. TensorFlow.\n",
    "2. Pandas.\n",
    "3. NumPy.\n",
    "4. SciPy."
   ]
  },
  {
   "cell_type": "markdown",
   "id": "ec5e2035-390e-4ac3-8bf5-647a0ef0d90e",
   "metadata": {},
   "source": [
    "|My Table|\n",
    "|---|\n",
    "|TensorFlow|\n",
    "|Hadoop|\n",
    "\n"
   ]
  },
  {
   "cell_type": "markdown",
   "id": "feb05595-fe9a-4b83-ad22-38294dc0babe",
   "metadata": {},
   "source": [
    "## Below are a few examples of evaluating arithmetic expressions in Python"
   ]
  },
  {
   "cell_type": "code",
   "execution_count": 5,
   "id": "c466c278-65ea-4de6-a437-fee6b63f73f5",
   "metadata": {
    "jp-MarkdownHeadingCollapsed": true
   },
   "outputs": [
    {
     "data": {
      "text/plain": [
       "21"
      ]
     },
     "execution_count": 5,
     "metadata": {},
     "output_type": "execute_result"
    }
   ],
   "source": [
    "#Basic arithmetic in notebook\n",
    "(3*5)+6"
   ]
  },
  {
   "cell_type": "code",
   "execution_count": 4,
   "id": "26bdb61d-31b6-4de9-8db4-083d188d9d17",
   "metadata": {},
   "outputs": [
    {
     "data": {
      "text/plain": [
       "3.3333333333333335"
      ]
     },
     "execution_count": 4,
     "metadata": {},
     "output_type": "execute_result"
    }
   ],
   "source": [
    "#hour to minute conversion\n",
    "200/60"
   ]
  },
  {
   "cell_type": "markdown",
   "id": "4bce648a-57af-4547-98e5-5a4bc270ce71",
   "metadata": {},
   "source": [
    "__My Unordered List__\n",
    "* item 1\n",
    "* item 2\n",
    "* item 3"
   ]
  },
  {
   "cell_type": "markdown",
   "id": "b4544cfa-3412-4701-ae8b-fd15cb72d2eb",
   "metadata": {},
   "source": [
    "## Author\n",
    "Shouvik Barua Turjo"
   ]
  }
 ],
 "metadata": {
  "kernelspec": {
   "display_name": "Python 3 (ipykernel)",
   "language": "python",
   "name": "python3"
  },
  "language_info": {
   "codemirror_mode": {
    "name": "ipython",
    "version": 3
   },
   "file_extension": ".py",
   "mimetype": "text/x-python",
   "name": "python",
   "nbconvert_exporter": "python",
   "pygments_lexer": "ipython3",
   "version": "3.11.7"
  }
 },
 "nbformat": 4,
 "nbformat_minor": 5
}
